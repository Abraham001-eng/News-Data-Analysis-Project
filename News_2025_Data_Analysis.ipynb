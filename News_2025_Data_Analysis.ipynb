{
 "cells": [
  {
   "cell_type": "code",
   "execution_count": 56,
   "id": "89cf1a7e-1b13-49a2-aec1-0255d4567302",
   "metadata": {},
   "outputs": [
    {
     "name": "stdout",
     "output_type": "stream",
     "text": [
      "Number of distinct news sources: 98\n"
     ]
    }
   ],
   "source": [
    "num_unique_sources = df['source'].nunique()\n",
    "\n",
    "print(f\"Number of distinct news sources: {num_unique_sources}\")"
   ]
  },
  {
   "cell_type": "code",
   "execution_count": 58,
   "id": "2ce8f156-0f24-40c5-b2b4-8d288f02fbc6",
   "metadata": {},
   "outputs": [
    {
     "name": "stdout",
     "output_type": "stream",
     "text": [
      "Top 10 Most Prolific News Sources:\n",
      "| source                                           | count   |\n",
      "|:-------------------------------------------------|:--------|\n",
      "| The Daily Galaxy                                 | 13      |\n",
      "| The New York Times                               | 11      |\n",
      "| Space                                            | 8       |\n",
      "| BBC                                              | 7       |\n",
      "| Forbes                                           | 5       |\n",
      "| ScienceAlert                                     | 5       |\n",
      "| NPR                                              | 5       |\n",
      "| Yahoo                                            | 5       |\n",
      "| ABC News - Breaking News, Latest News and Videos | 5       |\n",
      "| Politico                                         | 4       |\n"
     ]
    }
   ],
   "source": [
    "source_counts = df['source'].value_counts()\n",
    "print(\"Top 10 Most Prolific News Sources:\")\n",
    "print(source_counts.head(10).to_markdown(numalign=\"left\", stralign=\"left\"))"
   ]
  },
  {
   "cell_type": "code",
   "execution_count": 60,
   "id": "5858559c-c22b-4976-97c2-c9129ba58407",
   "metadata": {},
   "outputs": [
    {
     "name": "stdout",
     "output_type": "stream",
     "text": [
      "Top 10 Most Frequent Domains:\n",
      "| domain               | count   |\n",
      "|:---------------------|:--------|\n",
      "| dailygalaxy.com      | 13      |\n",
      "| www.nytimes.com      | 11      |\n",
      "| www.space.com        | 8       |\n",
      "| www.bbc.com          | 7       |\n",
      "| www.forbes.com       | 5       |\n",
      "| www.sciencealert.com | 5       |\n",
      "| www.npr.org          | 5       |\n",
      "| www.yahoo.com        | 5       |\n",
      "| abcnews.go.com       | 5       |\n",
      "| www.politico.com     | 4       |\n"
     ]
    }
   ],
   "source": [
    "from urllib.parse import urlparse\n",
    "\n",
    "def extract_domain(url):\n",
    "    try:\n",
    "        return urlparse(url).netloc\n",
    "    except:\n",
    "        return None\n",
    "\n",
    "df['domain'] = df['sourceUrl'].apply(extract_domain)\n",
    "domain_counts = df['domain'].value_counts()\n",
    "print(\"Top 10 Most Frequent Domains:\")\n",
    "print(domain_counts.head(10).to_markdown(numalign=\"left\", stralign=\"left\"))"
   ]
  },
  {
   "cell_type": "code",
   "execution_count": 62,
   "id": "19e6f6ec-372a-4b8b-b029-4b691a930e4c",
   "metadata": {},
   "outputs": [
    {
     "name": "stdout",
     "output_type": "stream",
     "text": [
      "\n",
      "Publication Frequency by Day of Week:\n",
      "| day_of_week   | count   |\n",
      "|:--------------|:--------|\n",
      "| Thursday      | 99      |\n",
      "| Wednesday     | 87      |\n",
      "| Tuesday       | 9       |\n",
      "\n",
      "Publication Frequency by Hour of Day:\n",
      "| hour_of_day   | count   |\n",
      "|:--------------|:--------|\n",
      "| 0             | 7       |\n",
      "| 1             | 4       |\n",
      "| 2             | 5       |\n",
      "| 3             | 4       |\n",
      "| 4             | 4       |\n",
      "| 5             | 2       |\n",
      "| 6             | 1       |\n",
      "| 7             | 6       |\n",
      "| 8             | 5       |\n",
      "| 9             | 15      |\n",
      "| 10            | 14      |\n",
      "| 11            | 11      |\n",
      "| 12            | 14      |\n",
      "| 13            | 16      |\n",
      "| 14            | 13      |\n",
      "| 15            | 18      |\n",
      "| 16            | 10      |\n",
      "| 17            | 13      |\n",
      "| 18            | 7       |\n",
      "| 19            | 7       |\n",
      "| 20            | 3       |\n",
      "| 21            | 9       |\n",
      "| 22            | 3       |\n",
      "| 23            | 4       |\n"
     ]
    }
   ],
   "source": [
    "df['publishedAt'] = pd.to_datetime(df['publishedAt'])\n",
    "\n",
    "df['day_of_week'] = df['publishedAt'].dt.day_name()\n",
    "print(\"\\nPublication Frequency by Day of Week:\")\n",
    "print(df['day_of_week'].value_counts().to_markdown(numalign=\"left\", stralign=\"left\"))\n",
    "\n",
    "df['hour_of_day'] = df['publishedAt'].dt.hour\n",
    "print(\"\\nPublication Frequency by Hour of Day:\")\n",
    "print(df['hour_of_day'].value_counts().sort_index().to_markdown(numalign=\"left\", stralign=\"left\"))"
   ]
  },
  {
   "cell_type": "code",
   "execution_count": 64,
   "id": "22f8a635-e600-4c49-b5cd-a01b7ab06525",
   "metadata": {},
   "outputs": [
    {
     "name": "stdout",
     "output_type": "stream",
     "text": [
      "Statistical Distribution of News Title Lengths (Word Count):\n",
      "|       | word_count   |\n",
      "|:------|:-------------|\n",
      "| count | 195          |\n",
      "| mean  | 12.6769      |\n",
      "| std   | 3.68239      |\n",
      "| min   | 3            |\n",
      "| 25%   | 10           |\n",
      "| 50%   | 12           |\n",
      "| 75%   | 15           |\n",
      "| max   | 29           |\n"
     ]
    }
   ],
   "source": [
    "df['word_count'] = df['title'].apply(lambda x: len(x.split()))\n",
    "\n",
    "title_length_stats = df['word_count'].describe()\n",
    "\n",
    "print(\"Statistical Distribution of News Title Lengths (Word Count):\")\n",
    "print(title_length_stats.to_markdown(numalign=\"left\", stralign=\"left\"))"
   ]
  },
  {
   "cell_type": "code",
   "execution_count": 66,
   "id": "7d221484-47e8-4448-80d7-dcd5cc85f27f",
   "metadata": {},
   "outputs": [
    {
     "name": "stdout",
     "output_type": "stream",
     "text": [
      "| source            | word_count   |\n",
      "|:------------------|:-------------|\n",
      "| Wccftech          | 29           |\n",
      "| Hindustan Times   | 23           |\n",
      "| Daily Mail        | 22           |\n",
      "| The Independent   | 19           |\n",
      "| Android Authority | 19           |\n",
      "| Cageside Seats    | 18           |\n",
      "| RPG Site          | 18           |\n",
      "| Rude Baguette     | 18           |\n",
      "| Times of India    | 18           |\n",
      "| The Conversation  | 17           |\n",
      "\n",
      "Average Title Length by Day of Week:\n",
      "| day_of_week   | word_count   |\n",
      "|:--------------|:-------------|\n",
      "| Monday        | nan          |\n",
      "| Tuesday       | 12           |\n",
      "| Wednesday     | 12.9425      |\n",
      "| Thursday      | 12.5051      |\n",
      "| Friday        | nan          |\n",
      "| Saturday      | nan          |\n",
      "| Sunday        | nan          |\n"
     ]
    }
   ],
   "source": [
    "avg_title_length_by_source = df.groupby('source')['word_count'].mean().sort_values(ascending=False)\n",
    "print(avg_title_length_by_source.head(10).to_markdown(numalign=\"left\", stralign=\"left\"))\n",
    "avg_title_length_by_day = df.groupby('day_of_week')['word_count'].mean().reindex(['Monday', 'Tuesday', 'Wednesday', 'Thursday', 'Friday', 'Saturday', 'Sunday'])\n",
    "\n",
    "print(\"\\nAverage Title Length by Day of Week:\")\n",
    "print(avg_title_length_by_day.to_markdown(numalign=\"left\", stralign=\"left\"))"
   ]
  },
  {
   "cell_type": "code",
   "execution_count": 68,
   "id": "b901cb3d-7e78-4706-b577-0a6770a0b090",
   "metadata": {},
   "outputs": [
    {
     "name": "stdout",
     "output_type": "stream",
     "text": [
      "\n",
      "Top 20 Most Frequent Words in News Titles (including common words):\n",
      "[('the', 77), ('to', 59), ('in', 53), ('a', 42), ('of', 40), ('and', 29), ('for', 29), ('on', 23), ('is', 21), ('new', 17), ('are', 15), ('with', 15), ('trump', 14), ('iran', 13), ('us', 13), ('that', 12), ('from', 11), ('scientists', 10), ('as', 10), ('this', 10)]\n"
     ]
    }
   ],
   "source": [
    "from collections import Counter\n",
    "import re\n",
    "def clean_text(text):\n",
    "    text = re.sub(r'[^a-zA-Z\\s]', '', text)\n",
    "    return text.lower()\n",
    "df['cleaned_title'] = df['title'].apply(clean_text)\n",
    "all_words = ' '.join(df['cleaned_title']).split()\n",
    "word_freq = Counter(all_words)\n",
    "print(\"\\nTop 20 Most Frequent Words in News Titles (including common words):\")\n",
    "print(word_freq.most_common(20))"
   ]
  },
  {
   "cell_type": "code",
   "execution_count": 70,
   "id": "8f9fe130-c79b-4e4b-a704-c628882222d5",
   "metadata": {},
   "outputs": [
    {
     "name": "stdout",
     "output_type": "stream",
     "text": [
      "\n",
      "Source-Specific Content Patterns (Most Frequent Words):\n",
      "\n",
      "--- Top 10 words for 'The Daily Galaxy': ---\n",
      "[('the', 13), ('a', 5), ('are', 3), ('on', 3), ('of', 3), ('reveals', 3), ('is', 2), ('in', 2), ('scientists', 2), ('our', 2)]\n",
      "\n",
      "--- Top 10 words for 'The New York Times': ---\n",
      "[('the', 7), ('a', 4), ('to', 3), ('in', 3), ('trump', 2), ('is', 2), ('war', 2), ('russian', 2), ('with', 2), ('no', 2)]\n",
      "\n",
      "--- Top 10 words for 'NPR': ---\n",
      "[('israel', 1), ('vows', 1), ('to', 1), ('intensify', 1), ('attacks', 1), ('after', 1), ('iranian', 1), ('missile', 1), ('hits', 1), ('major', 1)]\n",
      "\n",
      "--- Top 10 words for 'ScienceAlert': ---\n",
      "[('a', 3), ('to', 3), ('human', 2), ('as', 2), ('s', 1), ('dragon', 1), ('man', 1), ('finally', 1), ('gives', 1), ('elusive', 1)]\n",
      "\n",
      "--- Top 10 words for 'Politico': ---\n",
      "[('trump', 2), ('on', 2), ('iran', 2), ('weak', 1), ('whiny', 1), ('and', 1), ('invisible', 1), ('critics', 1), ('of', 1), ('dnc', 1)]\n"
     ]
    }
   ],
   "source": [
    "def clean_text(text):\n",
    "    text = re.sub(r'[^a-zA-Z\\s]', '', text)\n",
    "    return text.lower()\n",
    "df['cleaned_title'] = df['title'].apply(clean_text)\n",
    "sources_to_analyze = ['The Daily Galaxy', 'The New York Times', 'NPR', 'ScienceAlert', 'Politico']\n",
    "\n",
    "print(\"\\nSource-Specific Content Patterns (Most Frequent Words):\")\n",
    "\n",
    "for source_name in sources_to_analyze:\n",
    "    source_df = df[df['source'] == source_name]\n",
    "\n",
    "    if not source_df.empty:\n",
    "        # Combine all cleaned titles for this source into a single string\n",
    "        all_words_source = ' '.join(source_df['cleaned_title']).split()\n",
    "        word_freq_source = Counter(all_words_source)\n",
    "\n",
    "        print(f\"\\n--- Top 10 words for '{source_name}': ---\")\n",
    "        print(word_freq_source.most_common(10))\n",
    "    else:\n",
    "        print(f\"\\nNo articles found for '{source_name}'.\")"
   ]
  },
  {
   "cell_type": "code",
   "execution_count": null,
   "id": "243626df-ccb9-425c-bb63-5cbdac7a15a4",
   "metadata": {},
   "outputs": [],
   "source": []
  },
  {
   "cell_type": "code",
   "execution_count": 76,
   "id": "8e8f3e67-088e-405c-86f0-d15164481d68",
   "metadata": {},
   "outputs": [
    {
     "name": "stdout",
     "output_type": "stream",
     "text": [
      "Daily publication volume chart saved as 'daily_publication_volume.png'\n"
     ]
    },
    {
     "data": {
      "image/png": "[encoded data removed]",
      "text/plain": [
       "<Figure size 1200x600 with 1 Axes>"
      ]
     },
     "metadata": {},
     "output_type": "display_data"
    }
   ],
   "source": [
    "import matplotlib.pyplot as plt\n",
    "import pandas as pd\n",
    "\n",
    "df['publishedAt'] = pd.to_datetime(df['publishedAt'])\n",
    "daily_counts = df.groupby(df['publishedAt'].dt.date).size()\n",
    "daily_counts.index = pd.to_datetime(daily_counts.index)\n",
    "\n",
    "plt.figure(figsize=(12, 6))\n",
    "plt.plot(daily_counts.index, daily_counts.values, marker='o', linestyle='-')\n",
    "plt.title('Daily News Publication Volume Over Time')\n",
    "plt.xlabel('Date')\n",
    "plt.ylabel('Number of Articles')\n",
    "plt.grid(True)\n",
    "plt.xticks(rotation=45)\n",
    "plt.tight_layout()\n",
    "plt.savefig('daily_publication_volume.png')\n",
    "\n",
    "print(\"Daily publication volume chart saved as 'daily_publication_volume.png'\")"
   ]
  },
  {
   "cell_type": "code",
   "execution_count": 78,
   "id": "aa29d6c4-4f4c-46d7-8cd1-3f87aa114144",
   "metadata": {},
   "outputs": [
    {
     "name": "stdout",
     "output_type": "stream",
     "text": [
      "\n",
      "--- Unique Keyword Identification per Source: ---\n",
      "\n",
      "--- Top 10 'Unique' Keywords for 'The Daily Galaxy': ---\n",
      "- 'reveals' (Source Freq: 3, Overall Freq: 3, Score: 0.75)\n",
      "- 'mysterious' (Source Freq: 2, Overall Freq: 2, Score: 0.67)\n",
      "- 'tiny' (Source Freq: 2, Overall Freq: 2, Score: 0.67)\n",
      "- 'global' (Source Freq: 1, Overall Freq: 1, Score: 0.50)\n",
      "- 'innovation' (Source Freq: 1, Overall Freq: 1, Score: 0.50)\n",
      "- 'breaking' (Source Freq: 1, Overall Freq: 1, Score: 0.50)\n",
      "- 'powerful' (Source Freq: 1, Overall Freq: 1, Score: 0.50)\n",
      "- 'electron' (Source Freq: 1, Overall Freq: 1, Score: 0.50)\n",
      "- 'beam' (Source Freq: 1, Overall Freq: 1, Score: 0.50)\n",
      "- 'spiders' (Source Freq: 1, Overall Freq: 1, Score: 0.50)\n",
      "\n",
      "--- Top 10 'Unique' Keywords for 'The New York Times': ---\n",
      "- 'russian' (Source Freq: 2, Overall Freq: 2, Score: 0.67)\n",
      "- 'chiles' (Source Freq: 1, Overall Freq: 1, Score: 0.50)\n",
      "- 'vera' (Source Freq: 1, Overall Freq: 1, Score: 0.50)\n",
      "- 'rubin' (Source Freq: 1, Overall Freq: 1, Score: 0.50)\n",
      "- 'observatory' (Source Freq: 1, Overall Freq: 1, Score: 0.50)\n",
      "- 'surveys' (Source Freq: 1, Overall Freq: 1, Score: 0.50)\n",
      "- 'sky' (Source Freq: 1, Overall Freq: 1, Score: 0.50)\n",
      "- 'satisfy' (Source Freq: 1, Overall Freq: 1, Score: 0.50)\n",
      "- 'nato' (Source Freq: 1, Overall Freq: 1, Score: 0.50)\n",
      "- 'running' (Source Freq: 1, Overall Freq: 1, Score: 0.50)\n",
      "\n",
      "--- Top 10 'Unique' Keywords for 'NPR': ---\n",
      "- 'vows' (Source Freq: 1, Overall Freq: 1, Score: 0.50)\n",
      "- 'intensify' (Source Freq: 1, Overall Freq: 1, Score: 0.50)\n",
      "- 'missile' (Source Freq: 1, Overall Freq: 1, Score: 0.50)\n",
      "- 'hits' (Source Freq: 1, Overall Freq: 1, Score: 0.50)\n",
      "- 'migrating' (Source Freq: 1, Overall Freq: 1, Score: 0.50)\n",
      "- 'australian' (Source Freq: 1, Overall Freq: 1, Score: 0.50)\n",
      "- 'moths' (Source Freq: 1, Overall Freq: 1, Score: 0.50)\n",
      "- 'caves' (Source Freq: 1, Overall Freq: 1, Score: 0.50)\n",
      "- 'hundreds' (Source Freq: 1, Overall Freq: 1, Score: 0.50)\n",
      "- 'away' (Source Freq: 1, Overall Freq: 1, Score: 0.50)\n",
      "\n",
      "--- Top 10 'Unique' Keywords for 'ScienceAlert': ---\n",
      "- 'dragon' (Source Freq: 1, Overall Freq: 1, Score: 0.50)\n",
      "- 'gives' (Source Freq: 1, Overall Freq: 1, Score: 0.50)\n",
      "- 'elusive' (Source Freq: 1, Overall Freq: 1, Score: 0.50)\n",
      "- 'human' (Source Freq: 2, Overall Freq: 3, Score: 0.50)\n",
      "- 'face' (Source Freq: 1, Overall Freq: 1, Score: 0.50)\n",
      "- 'axolotl' (Source Freq: 1, Overall Freq: 1, Score: 0.50)\n",
      "- 'closer' (Source Freq: 1, Overall Freq: 1, Score: 0.50)\n",
      "- 'regrowing' (Source Freq: 1, Overall Freq: 1, Score: 0.50)\n",
      "- 'limbs' (Source Freq: 1, Overall Freq: 1, Score: 0.50)\n",
      "- 'galaxys' (Source Freq: 1, Overall Freq: 1, Score: 0.50)\n",
      "\n",
      "--- Top 10 'Unique' Keywords for 'Politico': ---\n",
      "- 'weak' (Source Freq: 1, Overall Freq: 1, Score: 0.50)\n",
      "- 'whiny' (Source Freq: 1, Overall Freq: 1, Score: 0.50)\n",
      "- 'invisible' (Source Freq: 1, Overall Freq: 1, Score: 0.50)\n",
      "- 'critics' (Source Freq: 1, Overall Freq: 1, Score: 0.50)\n",
      "- 'dnc' (Source Freq: 1, Overall Freq: 1, Score: 0.50)\n",
      "- 'chair' (Source Freq: 1, Overall Freq: 1, Score: 0.50)\n",
      "- 'ken' (Source Freq: 1, Overall Freq: 1, Score: 0.50)\n",
      "- 'martin' (Source Freq: 1, Overall Freq: 1, Score: 0.50)\n",
      "- 'savage' (Source Freq: 1, Overall Freq: 1, Score: 0.50)\n",
      "- 'tenure' (Source Freq: 1, Overall Freq: 1, Score: 0.50)\n"
     ]
    }
   ],
   "source": [
    "from collections import Counter\n",
    "import re\n",
    "\n",
    "def clean_text(text):\n",
    "    text = re.sub(r'[^a-zA-Z\\s]', '', text)\n",
    "    return text.lower()\n",
    "df['cleaned_title'] = df['title'].apply(clean_text)\n",
    "\n",
    "all_words_overall = ' '.join(df['cleaned_title']).split()\n",
    "word_freq_overall = Counter(all_words_overall)\n",
    "\n",
    "sources_to_analyze = ['The Daily Galaxy', 'The New York Times', 'NPR', 'ScienceAlert', 'Politico']\n",
    "\n",
    "print(\"\\n--- Unique Keyword Identification per Source: ---\")\n",
    "\n",
    "for source_name in sources_to_analyze:\n",
    "    source_df = df[df['source'] == source_name]\n",
    "\n",
    "    if not source_df.empty:\n",
    "        all_words_source = ' '.join(source_df['cleaned_title']).split()\n",
    "        word_freq_source = Counter(all_words_source)\n",
    "        \n",
    "        unique_words_score = {}\n",
    "        for word, freq in word_freq_source.items():\n",
    "            if word: # Ensure word is not an empty string\n",
    "                overall_freq = word_freq_overall.get(word, 0)\n",
    "                score = freq / (overall_freq + 1)\n",
    "                unique_words_score[word] = score\n",
    "\n",
    "        most_unique_words = sorted(unique_words_score.items(), key=lambda item: item[1], reverse=True)[:10]\n",
    "\n",
    "        print(f\"\\n--- Top 10 'Unique' Keywords for '{source_name}': ---\")\n",
    "        for word, score in most_unique_words:\n",
    "            print(f\"- '{word}' (Source Freq: {word_freq_source[word]}, Overall Freq: {word_freq_overall[word]}, Score: {score:.2f})\")\n",
    "    else:\n",
    "        print(f\"\\nNo articles found for '{source_name}'.\")"
   ]
  },
  {
   "cell_type": "code",
   "execution_count": 80,
   "id": "2789f739-cdd2-45ed-910e-6f8f3fa5cc66",
   "metadata": {},
   "outputs": [
    {
     "name": "stdout",
     "output_type": "stream",
     "text": [
      "\n",
      "--- Analysis of Missing Image Data ---\n",
      "Total entries with missing image URLs: 16\n",
      "\n",
      "Sources with Missing Image URLs:\n",
      "| source               | count   |\n",
      "|:---------------------|:--------|\n",
      "| Politico             | 4       |\n",
      "| Axios                | 3       |\n",
      "| The New York Times   | 3       |\n",
      "| Barron's             | 3       |\n",
      "| Farmingdale Observer | 1       |\n",
      "| Rocket League        | 1       |\n",
      "| Al Arabiya English   | 1       |\n",
      "\n",
      "Days of Week with Missing Image URLs:\n",
      "| day_of_week   | count   |\n",
      "|:--------------|:--------|\n",
      "| Thursday      | 11      |\n",
      "| Wednesday     | 4       |\n",
      "| Tuesday       | 1       |\n"
     ]
    }
   ],
   "source": [
    "import pandas as pd\n",
    "\n",
    "missing_image_df = df[df['image'].isnull()]\n",
    "missing_image_by_source = missing_image_df['source'].value_counts()\n",
    "missing_image_by_day = missing_image_df['day_of_week'].value_counts()\n",
    "\n",
    "print(\"\\n--- Analysis of Missing Image Data ---\")\n",
    "\n",
    "if not missing_image_df.empty:\n",
    "    print(f\"Total entries with missing image URLs: {len(missing_image_df)}\")\n",
    "\n",
    "    print(\"\\nSources with Missing Image URLs:\")\n",
    "    print(missing_image_by_source.to_markdown(numalign=\"left\", stralign=\"left\"))\n",
    "\n",
    "    print(\"\\nDays of Week with Missing Image URLs:\")\n",
    "    print(missing_image_by_day.to_markdown(numalign=\"left\", stralign=\"left\"))\n",
    "else:\n",
    "    print(\"No missing image URLs found in the dataset.\")"
   ]
  }
 ],
 "metadata": {
  "kernelspec": {
   "display_name": "Python [conda env:New folder]",
   "language": "python",
   "name": "conda-env-New_folder-py"
  },
  "language_info": {
   "codemirror_mode": {
    "name": "ipython",
    "version": 3
   },
   "file_extension": ".py",
   "mimetype": "text/x-python",
   "name": "python",
   "nbconvert_exporter": "python",
   "pygments_lexer": "ipython3",
   "version": "3.12.7"
  }
 },
 "nbformat": 4,
 "nbformat_minor": 5
}
